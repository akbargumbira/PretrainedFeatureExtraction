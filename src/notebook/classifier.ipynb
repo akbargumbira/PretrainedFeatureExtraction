{
 "cells": [
  {
   "cell_type": "code",
   "execution_count": null,
   "metadata": {},
   "outputs": [],
   "source": [
    "import matplotlib.pyplot as plt\n",
    "%matplotlib inline\n",
    "plt.rcParams[\"figure.figsize\"] = [15, 10]\n",
    "\n",
    "\n",
    "import sys\n",
    "sys.path.append('../../')"
   ]
  },
  {
   "cell_type": "code",
   "execution_count": null,
   "metadata": {},
   "outputs": [],
   "source": [
    "from keras.preprocessing import image\n",
    "import numpy as np\n",
    "\n",
    "from src.classifier import TLClassifier\n",
    "from src.utilities import load_dataset_from_path, UIUC_EVENT_CLASS, CODALAB_GENDER_CLASS, CODALAB_SMILE_CLASS, KAGGLE_DOGCAT_CLASS\n",
    "from src.plots import plot_confusion_matrix"
   ]
  },
  {
   "cell_type": "markdown",
   "metadata": {},
   "source": [
    "# Codalab Gender"
   ]
  },
  {
   "cell_type": "code",
   "execution_count": null,
   "metadata": {
    "scrolled": false
   },
   "outputs": [],
   "source": [
    "# Codalab Gender 3 classes\n",
    "# VGG16 bottleneck path\n",
    "vgg16_model = TLClassifier('vgg16', 3, 'codalab/224_224/model/gender/vgg16/checkpoint/weights-improvement-189-0.82.hdf5')\n",
    "inception_model = TLClassifier('inceptionv3', 3, 'codalab/224_224/model/gender/inceptionv3/checkpoint/weights-improvement-132-0.82.hdf5')\n",
    "resnet50_model = TLClassifier('resnet50', 3, 'codalab/224_224/model/gender/resnet50/checkpoint/weights-improvement-014-0.82.hdf5')"
   ]
  },
  {
   "cell_type": "code",
   "execution_count": null,
   "metadata": {},
   "outputs": [],
   "source": [
    "# Example image\n",
    "codalab_1_path = '../data/codalab/im_GenFex_06173.jpg'\n",
    "codalab_1_img = image.load_img(codalab_1_path, target_size=(224, 224))\n",
    "codalab_1 = image.img_to_array(codalab_1_img)\n",
    "codalab_1 = np.expand_dims(codalab_1, axis=0)\n",
    "codalab_1_img"
   ]
  },
  {
   "cell_type": "code",
   "execution_count": null,
   "metadata": {},
   "outputs": [],
   "source": [
    "from sklearn.metrics.classification import accuracy_score, confusion_matrix\n",
    "\n",
    "print(vgg16_model.predict(codalab_1))\n",
    "print(inception_model.predict(codalab_1))\n",
    "print(resnet50_model.predict(codalab_1))"
   ]
  },
  {
   "cell_type": "markdown",
   "metadata": {},
   "source": [
    "## Predicting with 3 models"
   ]
  },
  {
   "cell_type": "code",
   "execution_count": null,
   "metadata": {},
   "outputs": [],
   "source": [
    "val_data_path = 'codalab/224_224/val_data.npz'\n",
    "val_label_path = 'codalab/224_224/val_gender_label.npz'\n",
    "val_data = load_dataset_from_path(val_data_path)[:20]\n",
    "val_label = load_dataset_from_path(val_label_path)[:20]\n",
    "metrics = [accuracy_score, confusion_matrix]\n",
    "\n",
    "print(val_data[0])\n",
    "vgg16_preds = vgg16_model.predict(val_data)\n",
    "vgg16_y = np.argmax(vgg16_preds, axis=1)\n",
    "vgg16_scores = vgg16_model.evaluate_metrics(vgg16_y, val_label, metrics)\n",
    "print(val_data[0])\n",
    "inception_preds = inception_model.predict(val_data)\n",
    "inception_y = np.argmax(inception_preds, axis=1)\n",
    "inception_scores = inception_model.evaluate_metrics(inception_y, val_label, metrics)\n",
    "print(val_data[0])\n",
    "resnet50_preds = resnet50_model.predict(val_data)\n",
    "resnet50_y = np.argmax(resnet50_preds, axis=1)\n",
    "resnet50_scores = resnet50_model.evaluate_metrics(resnet50_y, val_label, metrics)\n",
    "print(val_data[0])"
   ]
  },
  {
   "cell_type": "code",
   "execution_count": null,
   "metadata": {
    "scrolled": false
   },
   "outputs": [],
   "source": [
    "%matplotlib inline\n",
    "plt.rcParams[\"figure.figsize\"] = [5, 5]\n",
    "plot_confusion_matrix(plt, vgg16_scores[1], CODALAB_GENDER_CLASS.values())\n",
    "plot_confusion_matrix(plt, inception_scores[1], CODALAB_GENDER_CLASS.values())\n",
    "plot_confusion_matrix(plt, resnet50_scores[1], CODALAB_GENDER_CLASS.values())"
   ]
  },
  {
   "cell_type": "code",
   "execution_count": null,
   "metadata": {},
   "outputs": [],
   "source": [
    "# Wrong classified but with high confidence\n",
    "vgg16_wrong_idx = np.where(vgg16_y != val_label)\n",
    "vgg16_wrong_idx\n",
    "np.max(vgg16_preds[vgg16_wrong_idx], axis=1)\n",
    "\n",
    "resnet50_wrong_idx = np.where(resnet50_y != val_label)\n",
    "resnet50_wrong_idx_probs = np.max(resnet50_preds[resnet50_wrong_idx], axis=1)"
   ]
  },
  {
   "cell_type": "code",
   "execution_count": null,
   "metadata": {},
   "outputs": [],
   "source": [
    "resnet50_wrong_idx_probs_sorted = np.argsort(resnet50_wrong_idx_probs)[::-1]\n",
    "resnet50_wrong_idx_probs_sorted"
   ]
  },
  {
   "cell_type": "code",
   "execution_count": null,
   "metadata": {},
   "outputs": [],
   "source": [
    "resnet50_wrong_idx[0]"
   ]
  },
  {
   "cell_type": "code",
   "execution_count": null,
   "metadata": {},
   "outputs": [],
   "source": [
    "np.max(resnet50_preds[resnet50_wrong_idx], axis=1)"
   ]
  },
  {
   "cell_type": "code",
   "execution_count": null,
   "metadata": {},
   "outputs": [],
   "source": [
    "sorted_wrong_idx = resnet50_wrong_idx[0][resnet50_wrong_idx_probs_sorted]"
   ]
  },
  {
   "cell_type": "code",
   "execution_count": null,
   "metadata": {
    "scrolled": false
   },
   "outputs": [],
   "source": [
    "val_data[sorted_wrong_idx][0]"
   ]
  }
 ],
 "metadata": {
  "kernelspec": {
   "display_name": "Python 3",
   "language": "python",
   "name": "python3"
  },
  "language_info": {
   "codemirror_mode": {
    "name": "ipython",
    "version": 3
   },
   "file_extension": ".py",
   "mimetype": "text/x-python",
   "name": "python",
   "nbconvert_exporter": "python",
   "pygments_lexer": "ipython3",
   "version": "3.5.2"
  }
 },
 "nbformat": 4,
 "nbformat_minor": 2
}
